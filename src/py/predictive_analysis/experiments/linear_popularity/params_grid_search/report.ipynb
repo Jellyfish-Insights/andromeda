{
 "cells": [
  {
   "cell_type": "markdown",
   "metadata": {},
   "source": [
    "# Grid Search on Model's Parameters\n",
    "\n",
    "\n",
    "## Objective\n",
    "\n",
    "Investigate if a reasonable prediction on video popularity could be made in shorter time than suggested by the literature.\n",
    "\n",
    "## Description\n",
    "\n",
    "Different setups of early and late popularity are run.\n",
    "\n",
    "The models produced are evaluated according to cross-validation(k=4) on two metrics:\n",
    "- r2 score (best possible value is 1.0)\n",
    "- negative relative square error (best possible value is 0.0)\n",
    "\n",
    "The mean score and a 95% trust margin are shown for every model evaluated.\n",
    "\n",
    "Youtube and Facebook data are evaluated separatedly. No grouping by meta-tag is performed on this experiment."
   ]
  },
  {
   "cell_type": "code",
   "execution_count": 2,
   "metadata": {},
   "outputs": [
    {
     "name": "stdout",
     "output_type": "stream",
     "text": [
      "## facebook\n",
      "### R2 Error\n",
      "    2             3             4             5             6             7             30\n",
      "--  ------------  ------------  ------------  ------------  ------------  ------------  ------------\n",
      " 1  0.95 +- 0.10  0.59 +- 1.23  0.57 +- 1.22  0.57 +- 1.21  0.56 +- 1.21  0.53 +- 1.27  0.63 +- 1.03\n",
      " 2  -             0.99 +- 0.00  0.97 +- 0.02  0.95 +- 0.01  0.94 +- 0.02  0.91 +- 0.05  0.78 +- 0.14\n",
      " 3  -             -             0.99 +- 0.01  0.98 +- 0.02  0.96 +- 0.03  0.94 +- 0.04  0.81 +- 0.11\n",
      " 4  -             -             -             0.99 +- 0.02  0.97 +- 0.04  0.95 +- 0.05  0.81 +- 0.11\n",
      " 5  -             -             -             -             0.99 +- 0.02  0.97 +- 0.04  0.85 +- 0.13\n",
      " 6  -             -             -             -             -             0.99 +- 0.04  0.87 +- 0.15\n",
      " 7  -             -             -             -             -             -             0.91 +- 0.06\n",
      "### Negative Relative Square Error\n",
      "    2              3              4              5              6              7              30\n",
      "--  -------------  -------------  -------------  -------------  -------------  -------------  -------------\n",
      " 1  -0.01 +- 0.01  -0.07 +- 0.07  -0.10 +- 0.11  -0.11 +- 0.12  -0.11 +- 0.12  -0.13 +- 0.15  -0.10 +- 0.09\n",
      " 2  -              -0.04 +- 0.02  -0.10 +- 0.05  -0.16 +- 0.09  -0.24 +- 0.17  -0.33 +- 0.24  -1.13 +- 1.28\n",
      " 3  -              -              -0.02 +- 0.01  -0.05 +- 0.03  -0.10 +- 0.08  -0.15 +- 0.13  -0.74 +- 1.13\n",
      " 4  -              -              -              -0.02 +- 0.02  -0.05 +- 0.07  -0.10 +- 0.12  -0.67 +- 1.26\n",
      " 5  -              -              -              -              -0.02 +- 0.03  -0.05 +- 0.05  -0.48 +- 0.91\n",
      " 6  -              -              -              -              -              -0.01 +- 0.02  -0.31 +- 0.47\n",
      " 7  -              -              -              -              -              -              -0.24 +- 0.33\n",
      "## youtube\n",
      "### R2 Error\n",
      "    2             3             4             5             6             7             30\n",
      "--  ------------  ------------  ------------  ------------  ------------  ------------  ------------\n",
      " 1  0.97 +- 0.02  0.93 +- 0.08  0.90 +- 0.09  0.86 +- 0.18  0.86 +- 0.18  0.83 +- 0.18  0.75 +- 0.21\n",
      " 2  -             0.96 +- 0.08  0.94 +- 0.10  0.90 +- 0.19  0.90 +- 0.20  0.86 +- 0.17  0.79 +- 0.17\n",
      " 3  -             -             0.99 +- 0.02  0.95 +- 0.09  0.94 +- 0.10  0.90 +- 0.08  0.84 +- 0.09\n",
      " 4  -             -             -             0.97 +- 0.07  0.97 +- 0.08  0.93 +- 0.07  0.86 +- 0.07\n",
      " 5  -             -             -             -             1.00 +- 0.00  0.96 +- 0.06  0.90 +- 0.09\n",
      " 6  -             -             -             -             -             0.97 +- 0.06  0.91 +- 0.09\n",
      " 7  -             -             -             -             -             -             0.93 +- 0.09\n",
      "### Negative Relative Square Error\n",
      "    2              3              4              5              6              7              30\n",
      "--  -------------  -------------  -------------  -------------  -------------  -------------  -------------\n",
      " 1  -0.08 +- 0.09  -0.19 +- 0.26  -0.32 +- 0.53  -0.46 +- 0.82  -0.52 +- 0.94  -0.74 +- 1.64  -1.97 +- 4.93\n",
      " 2  -              -0.04 +- 0.03  -0.10 +- 0.11  -0.18 +- 0.27  -0.22 +- 0.31  -0.34 +- 0.61  -0.99 +- 2.17\n",
      " 3  -              -              -0.03 +- 0.02  -0.07 +- 0.07  -0.10 +- 0.10  -0.18 +- 0.24  -0.53 +- 0.85\n",
      " 4  -              -              -              -0.02 +- 0.02  -0.04 +- 0.03  -0.08 +- 0.10  -0.34 +- 0.50\n",
      " 5  -              -              -              -              -0.01 +- 0.01  -0.03 +- 0.03  -0.21 +- 0.24\n",
      " 6  -              -              -              -              -              -0.02 +- 0.02  -0.17 +- 0.19\n",
      " 7  -              -              -              -              -              -              -0.13 +- 0.13\n"
     ]
    }
   ],
   "source": [
    "# %load main.py\n",
    "from sklearn import linear_model\n",
    "\n",
    "from year_ap_predictive import predictive_framework\n",
    "\n",
    "from data_sources.linear_log_popularity_data_source import EarlyToLatePopularityDataSource\n",
    "from report_writer import write_report\n",
    "\n",
    "CONFIG_FILE = '../config.json'\n",
    "\n",
    "\n",
    "def scores_statistics(scores):\n",
    "    return (scores.mean(), 2 * scores.std())\n",
    "\n",
    "\n",
    "data_source = EarlyToLatePopularityDataSource(7, 30, CONFIG_FILE)\n",
    "model = linear_model.LinearRegression\n",
    "\n",
    "data_source.open_connection()\n",
    "\n",
    "early_ages = [1, 2, 3, 4, 5, 6, 7]\n",
    "late_ages = [1, 2, 3, 4, 5, 6, 7, 30]\n",
    "experiments = []\n",
    "for early in early_ages:\n",
    "    for late in late_ages:\n",
    "        if early >= late:\n",
    "            continue\n",
    "        data_source.set_params(early, late)\n",
    "        (group_data, group_models, group_scores) = predictive_framework.run(data_source, model)\n",
    "\n",
    "        for group_key, v in group_scores.items():\n",
    "            r2_score = scores_statistics(v['test_r2'])\n",
    "            rms_score = scores_statistics(v['test_rse'])\n",
    "            experiments.append((early, late, group_key, r2_score[0], r2_score[1], rms_score[0], rms_score[1]))\n",
    "\n",
    "data_source.close_connection()\n",
    "write_report(experiments)\n"
   ]
  },
  {
   "cell_type": "markdown",
   "metadata": {},
   "source": [
    "## Conclusion\n",
    "\n",
    "The setup (7, 30) proposed by the literature scored r2 0.91 on facebook, and 0.93 on youtube. A much earlier prediction with setup (3, 5) scored 0.98 on facebbok and 0.95 on youtube - a better result on both platforms. According to our view, this experiment suggests that earlier predictions based on the proposed model are indeed possible.\n",
    "\n",
    "Another finding of this experiment was that rse doesn't seem like a fit metric for this model, as it produced estimates of the quality of the model that deviate a lot depending on the particular selection of training and test data.\n",
    "\n",
    "## Future Work\n",
    "\n",
    "The fact that rse produced very high standard error on score estimation is intriging. In my opinion, this suggests that cross validation with k=4 might not be suited to compute a 95% trust margin on the score estimation. On future development I'd suggest running repeated cross-validation with a higher partitioning and re-evaluation of the error margin. The goal would be to produce a more precise rse score estimation. The error estimate should also be run considering grouping by meta tag."
   ]
  }
 ],
 "metadata": {
  "kernelspec": {
   "display_name": "Python 3",
   "language": "python",
   "name": "python3"
  },
  "language_info": {
   "codemirror_mode": {
    "name": "ipython",
    "version": 3
   },
   "file_extension": ".py",
   "mimetype": "text/x-python",
   "name": "python",
   "nbconvert_exporter": "python",
   "pygments_lexer": "ipython3",
   "version": "3.6.5"
  }
 },
 "nbformat": 4,
 "nbformat_minor": 2
}
